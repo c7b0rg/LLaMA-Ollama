{
 "cells": [
  {
   "cell_type": "code",
   "execution_count": 1,
   "metadata": {},
   "outputs": [
    {
     "name": "stderr",
     "output_type": "stream",
     "text": [
      "/Users/omkarvyas/Documents/LLama/llamaenv/lib/python3.9/site-packages/urllib3/__init__.py:34: NotOpenSSLWarning: urllib3 v2.0 only supports OpenSSL 1.1.1+, currently the 'ssl' module is compiled with 'LibreSSL 2.8.3'. See: https://github.com/urllib3/urllib3/issues/3020\n",
      "  warnings.warn(\n"
     ]
    }
   ],
   "source": [
    "from langchain.llms import Ollama\n",
    "from langchain.callbacks.manager import CallbackManager\n",
    "from langchain.callbacks.streaming_stdout import StreamingStdOutCallbackHandler                                  \n",
    "llm = Ollama(base_url=\"http://localhost:11434\", \n",
    "             model=\"llama2\", \n",
    "             callback_manager = CallbackManager([StreamingStdOutCallbackHandler()]))"
   ]
  },
  {
   "cell_type": "code",
   "execution_count": 2,
   "metadata": {},
   "outputs": [
    {
     "name": "stdout",
     "output_type": "stream",
     "text": [
      "\n",
      "AI, or Artificial Intelligence, has a rich and varied history that spans several decades. The term \"Artificial Intelligence\" was coined in 1956 by John McCarthy, a computer scientist who organized the first AI conference at Dartmouth College. Since then, AI has evolved significantly, with numerous milestones and breakthroughs along the way. Here are some key events in the history of AI:\n",
      "\n",
      "1. 1950s: The Dartmouth Conference - This was the first formal meeting dedicated to the field of AI, where researchers from various disciplines gathered to discuss the possibilities and challenges of creating machines that could think and learn like humans.\n",
      "2. 1951: The Turing Test - Alan Turing, a British mathematician and computer scientist, proposed a test to measure a machine's ability to exhibit intelligent behavior equivalent to, or indistinguishable from, that of a human. The Turing Test is still used today as a benchmark for measuring the success of AI systems.\n",
      "3. 1956: The First AI Program - Computer scientist John McCarthy wrote the first AI program, called the Logical Theorist, which was able to reason and solve problems using logical deduction.\n",
      "4. 1960s: Rule-Based Expert Systems - This was a popular approach to AI research, where systems were designed to mimic human problem-solving abilities by following a set of rules and heuristics. Examples include the ELIZA chatbot and the MYCIN medical diagnosis system.\n",
      "5. 1970s: Machine Learning - Researchers began exploring ways to enable machines to learn from data, rather than relying solely on pre-programmed rules. This led to the development of machine learning algorithms, such as decision trees and neural networks.\n",
      "6. 1980s: Expert Systems - The development of expert systems, which were designed to mimic the problem-solving abilities of human experts in specific domains, reached its peak during this decade. These systems were widely used in industries such as banking and healthcare.\n",
      "7. 1990s: AI Winter - Despite the progress made in AI research, the field experienced a decline in funding and interest during this period, due in part to the over-hyping of AI's potential and the failure of some high-profile projects.\n",
      "8. 2000s: Machine Learning Revival - With the rise of big data and advances in computing power, machine learning experienced a resurgence of interest and investment. This led to the development of deep learning algorithms and the creation of large-scale AI systems.\n",
      "9. 2010s: AI Breakthroughs - Recent years have seen significant breakthroughs in AI, including the development of autonomous vehicles, natural language processing (NLP), and computer vision. These advances have been driven by improvements in data storage, computing power, and machine learning algorithms.\n",
      "10. Present Day: AI in Mainstream Culture - AI is now a common term in popular culture, with many people familiar with the concept of AI and its potential applications. The rise of AI-powered personal assistants, such as Siri and Alexa, has also made AI more accessible to the general public.\n",
      "\n",
      "Overall, the history of AI reflects a gradual progression towards more advanced and sophisticated systems, with ongoing research and development aimed at pushing the boundaries of what is possible with artificial intelligence."
     ]
    },
    {
     "data": {
      "text/plain": [
       "'\\nAI, or Artificial Intelligence, has a rich and varied history that spans several decades. The term \"Artificial Intelligence\" was coined in 1956 by John McCarthy, a computer scientist who organized the first AI conference at Dartmouth College. Since then, AI has evolved significantly, with numerous milestones and breakthroughs along the way. Here are some key events in the history of AI:\\n\\n1. 1950s: The Dartmouth Conference - This was the first formal meeting dedicated to the field of AI, where researchers from various disciplines gathered to discuss the possibilities and challenges of creating machines that could think and learn like humans.\\n2. 1951: The Turing Test - Alan Turing, a British mathematician and computer scientist, proposed a test to measure a machine\\'s ability to exhibit intelligent behavior equivalent to, or indistinguishable from, that of a human. The Turing Test is still used today as a benchmark for measuring the success of AI systems.\\n3. 1956: The First AI Program - Computer scientist John McCarthy wrote the first AI program, called the Logical Theorist, which was able to reason and solve problems using logical deduction.\\n4. 1960s: Rule-Based Expert Systems - This was a popular approach to AI research, where systems were designed to mimic human problem-solving abilities by following a set of rules and heuristics. Examples include the ELIZA chatbot and the MYCIN medical diagnosis system.\\n5. 1970s: Machine Learning - Researchers began exploring ways to enable machines to learn from data, rather than relying solely on pre-programmed rules. This led to the development of machine learning algorithms, such as decision trees and neural networks.\\n6. 1980s: Expert Systems - The development of expert systems, which were designed to mimic the problem-solving abilities of human experts in specific domains, reached its peak during this decade. These systems were widely used in industries such as banking and healthcare.\\n7. 1990s: AI Winter - Despite the progress made in AI research, the field experienced a decline in funding and interest during this period, due in part to the over-hyping of AI\\'s potential and the failure of some high-profile projects.\\n8. 2000s: Machine Learning Revival - With the rise of big data and advances in computing power, machine learning experienced a resurgence of interest and investment. This led to the development of deep learning algorithms and the creation of large-scale AI systems.\\n9. 2010s: AI Breakthroughs - Recent years have seen significant breakthroughs in AI, including the development of autonomous vehicles, natural language processing (NLP), and computer vision. These advances have been driven by improvements in data storage, computing power, and machine learning algorithms.\\n10. Present Day: AI in Mainstream Culture - AI is now a common term in popular culture, with many people familiar with the concept of AI and its potential applications. The rise of AI-powered personal assistants, such as Siri and Alexa, has also made AI more accessible to the general public.\\n\\nOverall, the history of AI reflects a gradual progression towards more advanced and sophisticated systems, with ongoing research and development aimed at pushing the boundaries of what is possible with artificial intelligence.'"
      ]
     },
     "execution_count": 2,
     "metadata": {},
     "output_type": "execute_result"
    }
   ],
   "source": [
    "llm(\"Tell me about the history of AI\")\n"
   ]
  },
  {
   "cell_type": "code",
   "execution_count": 3,
   "metadata": {},
   "outputs": [
    {
     "name": "stdout",
     "output_type": "stream",
     "text": [
      "Hello there! I'm just an AI assistant, so I don't have feelings or emotions like humans do, but I'm here to help you with any questions or tasks you may have. How can I assist you today? Please keep in mind that I'm programmed to provide respectful and socially unbiased responses, and I will not engage in any harmful or offensive conversations. Is there anything specific you would like to know or discuss?"
     ]
    },
    {
     "data": {
      "text/plain": [
       "\"Hello there! I'm just an AI assistant, so I don't have feelings or emotions like humans do, but I'm here to help you with any questions or tasks you may have. How can I assist you today? Please keep in mind that I'm programmed to provide respectful and socially unbiased responses, and I will not engage in any harmful or offensive conversations. Is there anything specific you would like to know or discuss?\""
      ]
     },
     "execution_count": 3,
     "metadata": {},
     "output_type": "execute_result"
    }
   ],
   "source": [
    "llm(\"hi! how are ya\")"
   ]
  },
  {
   "cell_type": "code",
   "execution_count": 8,
   "metadata": {},
   "outputs": [],
   "source": [
    "from langchain.document_loaders import WebBaseLoader\n",
    "loader = WebBaseLoader(\"https://lilianweng.github.io/posts/2023-06-23-agent/\")\n",
    "data = loader.load()\n",
    "\n",
    "from langchain.text_splitter import RecursiveCharacterTextSplitter\n",
    "text_splitter = RecursiveCharacterTextSplitter(chunk_size=500, chunk_overlap=0)\n",
    "all_splits = text_splitter.split_documents(data)"
   ]
  },
  {
   "cell_type": "code",
   "execution_count": 9,
   "metadata": {},
   "outputs": [
    {
     "name": "stderr",
     "output_type": "stream",
     "text": [
      "100%|██████████| 45.5M/45.5M [00:03<00:00, 11.6MiB/s]\n"
     ]
    },
    {
     "name": "stdout",
     "output_type": "stream",
     "text": [
      "Model downloaded at:  /Users/omkarvyas/.cache/gpt4all/ggml-all-MiniLM-L6-v2-f16.bin\n"
     ]
    },
    {
     "name": "stderr",
     "output_type": "stream",
     "text": [
      "objc[32422]: Class GGMLMetalClass is implemented in both /Users/omkarvyas/Documents/LLama/llamaenv/lib/python3.9/site-packages/gpt4all/llmodel_DO_NOT_MODIFY/build/libreplit-mainline-metal.dylib (0x127270208) and /Users/omkarvyas/Documents/LLama/llamaenv/lib/python3.9/site-packages/gpt4all/llmodel_DO_NOT_MODIFY/build/libllamamodel-mainline-metal.dylib (0x12743c208). One of the two will be used. Which one is undefined.\n"
     ]
    }
   ],
   "source": [
    "from langchain.vectorstores import Chroma\n",
    "from langchain.embeddings import GPT4AllEmbeddings\n",
    "\n",
    "vectorstore = Chroma.from_documents(documents=all_splits, embedding=GPT4AllEmbeddings())"
   ]
  },
  {
   "cell_type": "code",
   "execution_count": null,
   "metadata": {},
   "outputs": [],
   "source": []
  }
 ],
 "metadata": {
  "kernelspec": {
   "display_name": "llamaenv",
   "language": "python",
   "name": "python3"
  },
  "language_info": {
   "codemirror_mode": {
    "name": "ipython",
    "version": 3
   },
   "file_extension": ".py",
   "mimetype": "text/x-python",
   "name": "python",
   "nbconvert_exporter": "python",
   "pygments_lexer": "ipython3",
   "version": "3.9.6"
  },
  "orig_nbformat": 4
 },
 "nbformat": 4,
 "nbformat_minor": 2
}
